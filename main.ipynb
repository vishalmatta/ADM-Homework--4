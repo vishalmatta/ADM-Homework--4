{
 "cells": [
  {
   "cell_type": "markdown",
   "metadata": {},
   "source": [
    "# Homework 4 - Hard Coding"
   ]
  },
  {
   "cell_type": "markdown",
   "metadata": {},
   "source": [
    "## Group #12: Vishal Matta, Michele Meo, Giulio Rago"
   ]
  },
  {
   "cell_type": "markdown",
   "metadata": {},
   "source": [
    "# Hashing Task"
   ]
  },
  {
   "cell_type": "markdown",
   "metadata": {},
   "source": [
    "### Import data and libraries"
   ]
  },
  {
   "cell_type": "code",
   "execution_count": 98,
   "metadata": {},
   "outputs": [],
   "source": [
    "import os\n",
    "import time\n",
    "import math\n",
    "import matplotlib.pyplot as plt\n",
    "import numpy as np\n",
    "from scipy import stats"
   ]
  },
  {
   "cell_type": "markdown",
   "metadata": {},
   "source": [
    "We import the **hashing_lib** module that contains all the functions used to solve the hashing task:\n",
    "you can find it in the **utils** folder of the repository.  \n",
    "It is suggested to read the script every time a function imported from it is used to better understand the code."
   ]
  },
  {
   "cell_type": "code",
   "execution_count": 13,
   "metadata": {},
   "outputs": [],
   "source": [
    "from utils import hashing_lib as hs"
   ]
  },
  {
   "cell_type": "markdown",
   "metadata": {},
   "source": [
    "We import the data in two differents lists, then we delete the last element as it contains an empty string.  \n",
    "We find out that the passwords to be stored in the filter are 100000000 and the passwords we want  \n",
    "to compare with the filter, once we stored the first set of passwords, are 39000000."
   ]
  },
  {
   "cell_type": "code",
   "execution_count": 14,
   "metadata": {},
   "outputs": [],
   "source": [
    "with open (\"/Users/Michele/PycharmProjects/ADM-HW4/DATA/passwords1.txt\", \"r\") as file:\n",
    "    passwords1 = list(file.read().split(\"\\n\"))\n",
    "    \n",
    "with open (\"/Users/Michele/PycharmProjects/ADM-HW4/DATA/passwords2.txt\", \"r\") as file:\n",
    "    passwords2 = list(file.read().split(\"\\n\"))    \n",
    "\n",
    "passwords1.pop()\n",
    "passwords2.pop();"
   ]
  },
  {
   "cell_type": "code",
   "execution_count": 15,
   "metadata": {},
   "outputs": [
    {
     "name": "stdout",
     "output_type": "stream",
     "text": [
      "100000000\n",
      "39000000\n"
     ]
    }
   ],
   "source": [
    "print(len(passwords1))\n",
    "print(len(passwords2))"
   ]
  },
  {
   "cell_type": "markdown",
   "metadata": {},
   "source": [
    "### Preliminary considerations"
   ]
  },
  {
   "cell_type": "markdown",
   "metadata": {},
   "source": [
    "Given the false positive rate we are willing to have, $p$, and the number of items that will be stored in filter, $n$,  \n",
    "the website https://hackernoon.com/probabilistic-data-structures-bloom-filter-5374112a7832  provides us some \n",
    "quantitative methods to estimate the needed size of the filter, $m$, and the number of hash functions to be applied, $k$, to have the required $p$.  \n",
    "In particular, we have chosen to accept a rate of false positives:\n",
    "\n",
    "\\begin{equation}\n",
    "p = 0.01  -->  p = 1\\%.\n",
    "\\end{equation}\n",
    "\n",
    "Given $n=100000000$, we estimate the size of the filter and the number of needed hash functions with the following formulas:\n",
    "\n",
    "\\begin{equation}\n",
    "m \\approx -{{nlnp}\\over{(ln2)^2}}\n",
    "\\end{equation}\n",
    "\n",
    "\\begin{equation}\n",
    "k \\approx {{m}\\over{n}}ln2\n",
    "\\end{equation}\n",
    "\n",
    "as we do in the following code cell."
   ]
  },
  {
   "cell_type": "code",
   "execution_count": 16,
   "metadata": {},
   "outputs": [
    {
     "name": "stdout",
     "output_type": "stream",
     "text": [
      "We choose a rate of false positives of about 0.01 : given the number of passwords to be registered in the filter, 100000000 , we need at least a filter of size 958505837 and 7 different hash functions.\n"
     ]
    }
   ],
   "source": [
    "p = 0.01\n",
    "n = len(passwords1)\n",
    "m = int(-(n*math.log(p))/(math.log(2)**2))\n",
    "k = round((m/n)*math.log(2))\n",
    "print(\"We choose a rate of false positives of about\", p, \": given the number of passwords \" \n",
    "      \"to be registered in the filter,\", n, \", we need at least a filter of size\", m, \"and\", k, \n",
    "      \"different hash functions.\")"
   ]
  },
  {
   "cell_type": "markdown",
   "metadata": {},
   "source": [
    "Given the estimate obtained for the filter size, we choose a size $m$ equal to the first power of 2 higher than such estimate.  \n",
    "For this choice of size the number of necessary hash functions does not change with respect to the previous estimate and remains $k = 7$; moreover, by choosing a larger size we are more confident about possible collisions."
   ]
  },
  {
   "cell_type": "code",
   "execution_count": 17,
   "metadata": {},
   "outputs": [],
   "source": [
    "m = 2**30"
   ]
  },
  {
   "cell_type": "markdown",
   "metadata": {},
   "source": [
    "### Hash Function discussion"
   ]
  },
  {
   "cell_type": "markdown",
   "metadata": {},
   "source": [
    "The code for our own hash function is written in the function *hash_function* in the **hashing_lib.py** script.  \n",
    "Here we describe the concept behind our hash function and, to be clearer, we apply it by hand on a string example '/DXhI;GNl*nbCzKso=?@'.  \n",
    "Given an index of the string, $i$, the first prime number smaller than $m$, ${prime}_0$, and another prime number near the size of the filter, $prime$, the proposed hash function does (in the example we choose $i=1$):\n",
    "- takes the i-th-last character of the password and converts it to ascii code, in the example @-->64;\n",
    "- takes the last character of the ascii number obtained before, in the example 64-->4;\n",
    "- takes the (10+i)-th-last characters of the passwords, converts them in their ascii code and pick only the last numbers for each ascii number obtained, in the example:   \n",
    "@-->64-->4; ?-->63-->3; =-->61-->1; o-->111-->1 .......... G-->71-->1;\n",
    "- joins all the numbers obtained by the previous step in a string and converts this string in an int number:  \n",
    "43115527802881\n",
    "- converts the i-th character of the password in its ascii code, in the example /-->47, then apply the following formula to this number and the number obtained the previous step, in the example:\n",
    "\\begin{equation}\n",
    "(43115527802881\\cdot{prime}+47)\\;\\textrm{mod}({prime}_0)\n",
    "\\end{equation}\n",
    "and we have our hash value given the password.  \n",
    "\n",
    "With this method it is possible to obtain different hash functions by changing the $i$ and $prime$ parameters described above: we do it in the *multi_hash_function* in **hashing_lib** module and to evaluate prime numbers near the size of the filter we use the funcion *LastPrimes* in the same module.  \n",
    "The fact of considering a number of different numbers based on the ascii code of the i-th-last character, allows us to change the order of magnitude of the hash value for each different passowrd.  \n",
    "Furthermore, always considering only the last number of the ascii conversion allows us to obtain a uniform distribution."
   ]
  },
  {
   "cell_type": "markdown",
   "metadata": {},
   "source": [
    "### Testing our Hash Function"
   ]
  },
  {
   "cell_type": "markdown",
   "metadata": {},
   "source": [
    "Let's create a BloomFilter object of size $m$ (read the script **hashing_lib.py**)."
   ]
  },
  {
   "cell_type": "code",
   "execution_count": 18,
   "metadata": {},
   "outputs": [],
   "source": [
    "bloom_filter = hs.BloomFilter(m)"
   ]
  },
  {
   "cell_type": "markdown",
   "metadata": {},
   "source": [
    "To minimize the probability of having collisions, the hash function must generate values uniformly distributed between 0 and the filter size.  \n",
    "Below, we verify that the values calculated on the first 1000000 passwords are uniformly distributed."
   ]
  },
  {
   "cell_type": "code",
   "execution_count": 88,
   "metadata": {},
   "outputs": [],
   "source": [
    "hash_values = bloom_filter.testing_hash_function(passwords1[:1000000])"
   ]
  },
  {
   "cell_type": "code",
   "execution_count": 95,
   "metadata": {},
   "outputs": [
    {
     "data": {
      "image/png": "[encoded data removed]",
      "text/plain": [
       "<Figure size 576x360 with 1 Axes>"
      ]
     },
     "metadata": {
      "needs_background": "light"
     },
     "output_type": "display_data"
    }
   ],
   "source": [
    "fig = plt.figure(figsize=(8,5))\n",
    "plt.xlabel(\"Hash Values\")\n",
    "plt.ylabel(\"Frequency\")\n",
    "plt.hist(hash_values, bins=100)\n",
    "plt.show()"
   ]
  },
  {
   "cell_type": "markdown",
   "metadata": {},
   "source": [
    "### Bloom Filter implementation"
   ]
  },
  {
   "cell_type": "markdown",
   "metadata": {},
   "source": [
    "We apply 7 different hash functions to the set of passwords1 to store them on our filter, then we apply the same 7 hash functions to the set of passwords2 to verify which of these are already stored in the filter.  \n",
    "Furthermore, as requested, we calculate the execution time: this could be higher than the one strictly necessary to store passwords1 in the filter and check passwords2 because we also store all the passwords that are duplicated in a list (for a possible bonus task)."
   ]
  },
  {
   "cell_type": "code",
   "execution_count": 19,
   "metadata": {},
   "outputs": [],
   "source": [
    "start = time.time()\n",
    "\n",
    "bloom_filter.multi_hash_functions(passwords1, 7)\n",
    "positives = bloom_filter.hash_searching(passwords2, 7)\n",
    "\n",
    "end = time.time()"
   ]
  },
  {
   "cell_type": "markdown",
   "metadata": {},
   "source": [
    "Finally we can save the probable duplicates in a txt file and evaluate the execution time of our algorithm."
   ]
  },
  {
   "cell_type": "code",
   "execution_count": 11,
   "metadata": {},
   "outputs": [],
   "source": [
    "with open('duplicates.txt', 'w') as f:\n",
    "    for item in bloom_filter.duplicates:\n",
    "        f.write(\"%s\\n\" % item)"
   ]
  },
  {
   "cell_type": "code",
   "execution_count": 123,
   "metadata": {},
   "outputs": [],
   "source": [
    "run_time = int(end-start)\n",
    "h = run_time/(60*60)\n",
    "m = (h-int(h))*60\n",
    "s = int((m-int(m))*60)"
   ]
  },
  {
   "cell_type": "code",
   "execution_count": 124,
   "metadata": {},
   "outputs": [],
   "source": [
    "h, m = int(h), int(m)"
   ]
  },
  {
   "cell_type": "markdown",
   "metadata": {},
   "source": [
    "Some characteristic quantities of our Bloom Filter are the following."
   ]
  },
  {
   "cell_type": "code",
   "execution_count": 127,
   "metadata": {},
   "outputs": [
    {
     "name": "stdout",
     "output_type": "stream",
     "text": [
      "The number of hash functions we have used is: 7\n",
      "The number of possible duplicates that we found is: 14145218\n",
      "The probability of finding a false positive is: 0.01\n",
      "An estimate for the number of true duplicates is: 14003765\n",
      "The execution time of our algorithm is about: 12651 s ( 3 h 30 m 51 s)\n"
     ]
    }
   ],
   "source": [
    "print(\"The number of hash functions we have used is:\", k)\n",
    "print(\"The number of possible duplicates that we found is:\", positives)\n",
    "print(\"The probability of finding a false positive is:\", p)\n",
    "print(\"An estimate for the number of true duplicates is:\", int(positives-positives*p))\n",
    "print(\"The execution time of our algorithm is about:\", run_time, \"s (\", h,\"h\",m,\"m\",s,\"s)\")"
   ]
  },
  {
   "cell_type": "markdown",
   "metadata": {},
   "source": [
    "# Alphabetical Sort"
   ]
  },
  {
   "cell_type": "markdown",
   "metadata": {},
   "source": [
    "## Build your own implementation of Counting Sort. If it's based (based, not copied!) on some reference on Internet, please cite it."
   ]
  },
  {
   "cell_type": "markdown",
   "metadata": {},
   "source": [
    "### I saw a implementation of this algorith in https://www.geeksforgeeks.org/counting-sort/, our algorith takes a list of numbers, we have to store an array of lenght equals of the maximun value of the list."
   ]
  },
  {
   "cell_type": "code",
   "execution_count": 8,
   "metadata": {},
   "outputs": [],
   "source": [
    "\n",
    "def Counting_Sort(arr): \n",
    "\n",
    "    #we store two arrays of lenght equals to the max value of the input list\n",
    "    output = [0] * (max(arr)+1)\n",
    "\n",
    "\n",
    "    count = [0] * (max(arr)+1) \n",
    "\n",
    "\n",
    "    ans = [0] * len(arr)\n",
    "\n",
    "    #for each number we count the occurrence and insert it into the i-th cell\n",
    "    for i in arr: \n",
    "        count[i] += 1\n",
    "    #we fill cells with the sum of the previous cells\n",
    "    for i in range(max(arr)+1): \n",
    "        count[i] += count[i-1] \n",
    "\n",
    "    #insert in the output vector the numbers in the respective cells \n",
    "    #(obviously the occurrences are respected)\n",
    "    for i in range(len(arr)):\n",
    "        output[count[arr[i]]-1] = arr[i] \n",
    "        count[arr[i]] -= 1\n",
    "\n",
    "    #the ans vector is the final one\n",
    "    #with a length equal to that of the initial vector(the output vector have in the final a lot of 0)\n",
    "    for i in range(len(arr)): \n",
    "        ans[i] = output[i] \n",
    "    return ans[1:]\n",
    "\n",
    "\n"
   ]
  },
  {
   "cell_type": "code",
   "execution_count": 13,
   "metadata": {},
   "outputs": [],
   "source": [
    "import random\n",
    "l = [random.randrange(0,1000) for i in range(100)]\n"
   ]
  },
  {
   "cell_type": "markdown",
   "metadata": {},
   "source": [
    "## Build an algorithm, based on your implementation of Counting Sort, that receives in input a list with all the letters of the alphabet (not in alphabetical order), and returns the list ordered according to alphabetical order. Discuss time complexity (theoretically and empirically)."
   ]
  },
  {
   "cell_type": "markdown",
   "metadata": {},
   "source": [
    "Very similar with the first one, we used the unicode indices of these characters to get a range on which to work the counting sort"
   ]
  },
  {
   "cell_type": "code",
   "execution_count": 10,
   "metadata": {},
   "outputs": [],
   "source": [
    "def List_of_letters(arr):\n",
    "    arr = list(map(str.lower,arr))\n",
    "\n",
    "    output = [0] * 256\n",
    "\n",
    "    count = [0] * 256\n",
    "\n",
    "    ans = [0] * len(arr)\n",
    "\n",
    "    \n",
    "    \n",
    "    for i in arr: \n",
    "        count[ord(i)] += 1\n",
    "\n",
    "    for i in range(256): \n",
    "        count[i] += count[i-1] \n",
    "\n",
    "    for i in range(len(arr)): \n",
    "        output[count[ord(arr[i])]-1] = arr[i] \n",
    "        count[ord(arr[i])] -= 1\n",
    "    \n",
    "    new_idx = [0]*len(arr)\n",
    "    for i in range(len(arr)): \n",
    "        ans[i] = output[i]\n",
    "    return ans \n",
    "\n"
   ]
  },
  {
   "cell_type": "code",
   "execution_count": 17,
   "metadata": {},
   "outputs": [
    {
     "data": {
      "text/plain": [
       "['a', 'e', 'f', 'g', 'h', 'r', 's', 's', 't', 'y', 'y']"
      ]
     },
     "execution_count": 17,
     "metadata": {},
     "output_type": "execute_result"
    }
   ],
   "source": [
    "l = ['g','s','y','r','t','y','h','s','f','a','e']\n",
    "List_of_letters(l)"
   ]
  },
  {
   "cell_type": "markdown",
   "metadata": {},
   "source": [
    "## This is a variation of the second exercise, this function return the index of the character in the original list, we need this aux function fro the third exercise becouse we want to remember the initial index"
   ]
  },
  {
   "cell_type": "code",
   "execution_count": 21,
   "metadata": {},
   "outputs": [],
   "source": [
    "def List_of_letters_aux(arr):\n",
    "    arr = list(map(str.lower,arr))\n",
    "\n",
    "    output = [0] * 256\n",
    "\n",
    "    count = [0] * 256\n",
    "\n",
    "    ans = [0] * len(arr)\n",
    "    index = [\"0\"]*(256) # This list will be useful for part 3, in order to retrieve the initial position of each letter in a list of words\n",
    "\n",
    "    \n",
    "    \n",
    "    for i in arr: \n",
    "        count[ord(i)] += 1\n",
    "\n",
    "    for i in range(256): \n",
    "        count[i] += count[i-1] \n",
    "\n",
    "    for i in range(len(arr)): \n",
    "        output[count[ord(arr[i])]-1] = arr[i] \n",
    "        index[count[ord(arr[i])]-1] = i\n",
    "        count[ord(arr[i])] -= 1\n",
    "    \n",
    "    new_idx = [0]*len(arr)\n",
    "    for i in range(len(arr)): \n",
    "        ans[i] = output[i]\n",
    "        new_idx[i] = index[i]\n",
    "    return new_idx \n",
    "\n"
   ]
  },
  {
   "cell_type": "markdown",
   "metadata": {},
   "source": [
    "## Build an algorithm, based on your implementation of Counting Sort, that receives in input a list of length m, that contains words with maximum length equal to n, and returns the list ordered according to alphabetical order. Discuss time complexity (theoretically and empirically).\n"
   ]
  },
  {
   "cell_type": "code",
   "execution_count": 22,
   "metadata": {},
   "outputs": [],
   "source": [
    "def Counting_Sort_word(l):\n",
    "    \n",
    "    \n",
    "    #if the list have only one element return it\n",
    "    if len(l) < 2: \n",
    "        return l\n",
    "    \n",
    "    elif all(len(set([l[j][0] for j in range(len(l))]))==len(l) for j in range(len(l))):\n",
    "        \n",
    "        first = [l[j][0] for j in range(len(l))]\n",
    "        return([l[i] for i in List_of_letters_aux(first)])\n",
    "        \n",
    "        \n",
    "    #trasform the list with only lower character\n",
    "    array = list(map(str.lower,l)) \n",
    "    \n",
    "    \n",
    "    #We create two list,one with the input list, the other with the trasformed one\n",
    "    head, *tail = array\n",
    "    h_old, *t_old = l\n",
    "    \n",
    "    sort_1 = []\n",
    "    sort_2 = []\n",
    "        \n",
    "    for k in range(len(tail)): \n",
    "        i = 0\n",
    "        if tail[k][0] == head[i] and len(tail[k]) > 1:\n",
    "            # If the characters in the head is the same of in tail we dont need to sort them\n",
    "            while i<len(tail[k])-1 and i<len(head)-1 and tail[k][i] == head[i]: \n",
    "                i+=1\n",
    "                \n",
    "                \n",
    "        if i == len(tail[k])-1 and i != len(head)-1:\n",
    "            sort_1.append(t_old[k])\n",
    "        elif i == len(head)-1 and i != len(tail[k])-1: \n",
    "            sort_2.append(t_old[k])\n",
    "\n",
    "        else: \n",
    "            tosort = [tail[k][i],head[i]]\n",
    "            \n",
    "            # We sort the two words according to the first different character\n",
    "  \n",
    "            ind = List_of_letters_aux(tosort)\n",
    "            \n",
    "            sortedl = [tosort[u] for u in ind]\n",
    "            \n",
    "            # if tosort == sorted1 means that the two lists are sorted\n",
    "            if tosort == sortedl :\n",
    "                sort_1.append(t_old[k])\n",
    "            else:\n",
    "                sort_2.append(t_old[k])\n",
    "\n",
    "    less = Counting_Sort_word(sort_1)\n",
    "    more = Counting_Sort_word(sort_2)\n",
    "    return less + [h_old] + more\n"
   ]
  },
  {
   "cell_type": "code",
   "execution_count": 19,
   "metadata": {},
   "outputs": [
    {
     "name": "stdout",
     "output_type": "stream",
     "text": [
      "Enter a list of words: cas grwe gweds g wejuy ngfdsa ddgtr\n"
     ]
    }
   ],
   "source": [
    "l1 = input(\"Enter a list of words: \").split(\" \")"
   ]
  },
  {
   "cell_type": "code",
   "execution_count": 23,
   "metadata": {},
   "outputs": [
    {
     "data": {
      "text/plain": [
       "['g', 'cas', 'ddgtr', 'grwe', 'gweds', 'ngfdsa', 'wejuy']"
      ]
     },
     "execution_count": 23,
     "metadata": {},
     "output_type": "execute_result"
    }
   ],
   "source": [
    "Counting_Sort_word(l1)"
   ]
  },
  {
   "cell_type": "markdown",
   "metadata": {},
   "source": [
    "# Complexity"
   ]
  },
  {
   "cell_type": "markdown",
   "metadata": {},
   "source": [
    "In this exercise we have developed an algorithm that can sort a list of words using what was seen in the counting_sort, the power of the Counting sort is in fact the possibility to order a vector of objects without having to compare them.\n",
    "In the first two exercise we can sort the two list in linear time; now for sorting a list of words is much more complex.\n",
    "Let's start by analyzing the algorithm, obviously the best case is when all the words have the first different letters, in this case we only use one time the __aux Function__.\n",
    "the peggire case occurs when all the words have the same characters."
   ]
  },
  {
   "cell_type": "markdown",
   "metadata": {},
   "source": [
    "# Find similar wines"
   ]
  },
  {
   "cell_type": "markdown",
   "metadata": {},
   "source": [
    "### Import data and libraries"
   ]
  },
  {
   "cell_type": "code",
   "execution_count": 304,
   "metadata": {},
   "outputs": [],
   "source": [
    "import pandas as pd\n",
    "import math\n",
    "import numpy as np\n",
    "import matplotlib.pyplot as plt\n",
    "from sklearn.preprocessing import StandardScaler"
   ]
  },
  {
   "cell_type": "markdown",
   "metadata": {},
   "source": [
    "We import the **clustering_lib** module that contains all the functions used to implement the k-means algorithm: you can find it in the **utils** folder of the repository. It is suggested to read the script every time a function imported from it is used to better understand the code."
   ]
  },
  {
   "cell_type": "code",
   "execution_count": 305,
   "metadata": {},
   "outputs": [],
   "source": [
    "from utils import clustering_lib as clust"
   ]
  },
  {
   "cell_type": "markdown",
   "metadata": {},
   "source": [
    "We import the dataset and we label the features as described in the website of the dataset."
   ]
  },
  {
   "cell_type": "code",
   "execution_count": 306,
   "metadata": {},
   "outputs": [],
   "source": [
    "features = [\"Class\", \"Alcohol\", \"Malic acid\", \"Ash\", \"Alcalinity of ash\", \"Magnesium\", \"Total phenols\", \"Flavanoids\",\n",
    "            \"Nonflavanoid phenols\", \"Proanthocyanins\", \"Color intensity\", \"Hue\", \"OD280/OD315 of diluted wines\",\n",
    "            \"Proline\"]"
   ]
  },
  {
   "cell_type": "code",
   "execution_count": 307,
   "metadata": {},
   "outputs": [],
   "source": [
    "data = pd.read_csv(\"/Users/Michele/PycharmProjects/ADM-HW4/DATA/wine.data\", names = features)"
   ]
  },
  {
   "cell_type": "markdown",
   "metadata": {},
   "source": [
    "We delete the \"class\" column because it doesn't contain a wine feature, it's only a pre-existing classification.\n",
    "Then we look at the data."
   ]
  },
  {
   "cell_type": "code",
   "execution_count": 308,
   "metadata": {},
   "outputs": [
    {
     "data": {
      "text/html": [
       "<div>\n",
       "<style scoped>\n",
       "    .dataframe tbody tr th:only-of-type {\n",
       "        vertical-align: middle;\n",
       "    }\n",
       "\n",
       "    .dataframe tbody tr th {\n",
       "        vertical-align: top;\n",
       "    }\n",
       "\n",
       "    .dataframe thead th {\n",
       "        text-align: right;\n",
       "    }\n",
       "</style>\n",
       "<table border=\"1\" class=\"dataframe\">\n",
       "  <thead>\n",
       "    <tr style=\"text-align: right;\">\n",
       "      <th></th>\n",
       "      <th>Alcohol</th>\n",
       "      <th>Malic acid</th>\n",
       "      <th>Ash</th>\n",
       "      <th>Alcalinity of ash</th>\n",
       "      <th>Magnesium</th>\n",
       "      <th>Total phenols</th>\n",
       "      <th>Flavanoids</th>\n",
       "      <th>Nonflavanoid phenols</th>\n",
       "      <th>Proanthocyanins</th>\n",
       "      <th>Color intensity</th>\n",
       "      <th>Hue</th>\n",
       "      <th>OD280/OD315 of diluted wines</th>\n",
       "      <th>Proline</th>\n",
       "    </tr>\n",
       "  </thead>\n",
       "  <tbody>\n",
       "    <tr>\n",
       "      <th>0</th>\n",
       "      <td>14.23</td>\n",
       "      <td>1.71</td>\n",
       "      <td>2.43</td>\n",
       "      <td>15.6</td>\n",
       "      <td>127</td>\n",
       "      <td>2.80</td>\n",
       "      <td>3.06</td>\n",
       "      <td>0.28</td>\n",
       "      <td>2.29</td>\n",
       "      <td>5.64</td>\n",
       "      <td>1.04</td>\n",
       "      <td>3.92</td>\n",
       "      <td>1065</td>\n",
       "    </tr>\n",
       "    <tr>\n",
       "      <th>1</th>\n",
       "      <td>13.20</td>\n",
       "      <td>1.78</td>\n",
       "      <td>2.14</td>\n",
       "      <td>11.2</td>\n",
       "      <td>100</td>\n",
       "      <td>2.65</td>\n",
       "      <td>2.76</td>\n",
       "      <td>0.26</td>\n",
       "      <td>1.28</td>\n",
       "      <td>4.38</td>\n",
       "      <td>1.05</td>\n",
       "      <td>3.40</td>\n",
       "      <td>1050</td>\n",
       "    </tr>\n",
       "    <tr>\n",
       "      <th>2</th>\n",
       "      <td>13.16</td>\n",
       "      <td>2.36</td>\n",
       "      <td>2.67</td>\n",
       "      <td>18.6</td>\n",
       "      <td>101</td>\n",
       "      <td>2.80</td>\n",
       "      <td>3.24</td>\n",
       "      <td>0.30</td>\n",
       "      <td>2.81</td>\n",
       "      <td>5.68</td>\n",
       "      <td>1.03</td>\n",
       "      <td>3.17</td>\n",
       "      <td>1185</td>\n",
       "    </tr>\n",
       "    <tr>\n",
       "      <th>3</th>\n",
       "      <td>14.37</td>\n",
       "      <td>1.95</td>\n",
       "      <td>2.50</td>\n",
       "      <td>16.8</td>\n",
       "      <td>113</td>\n",
       "      <td>3.85</td>\n",
       "      <td>3.49</td>\n",
       "      <td>0.24</td>\n",
       "      <td>2.18</td>\n",
       "      <td>7.80</td>\n",
       "      <td>0.86</td>\n",
       "      <td>3.45</td>\n",
       "      <td>1480</td>\n",
       "    </tr>\n",
       "    <tr>\n",
       "      <th>4</th>\n",
       "      <td>13.24</td>\n",
       "      <td>2.59</td>\n",
       "      <td>2.87</td>\n",
       "      <td>21.0</td>\n",
       "      <td>118</td>\n",
       "      <td>2.80</td>\n",
       "      <td>2.69</td>\n",
       "      <td>0.39</td>\n",
       "      <td>1.82</td>\n",
       "      <td>4.32</td>\n",
       "      <td>1.04</td>\n",
       "      <td>2.93</td>\n",
       "      <td>735</td>\n",
       "    </tr>\n",
       "  </tbody>\n",
       "</table>\n",
       "</div>"
      ],
      "text/plain": [
       "   Alcohol  Malic acid   Ash  Alcalinity of ash  Magnesium  Total phenols  \\\n",
       "0    14.23        1.71  2.43               15.6        127           2.80   \n",
       "1    13.20        1.78  2.14               11.2        100           2.65   \n",
       "2    13.16        2.36  2.67               18.6        101           2.80   \n",
       "3    14.37        1.95  2.50               16.8        113           3.85   \n",
       "4    13.24        2.59  2.87               21.0        118           2.80   \n",
       "\n",
       "   Flavanoids  Nonflavanoid phenols  Proanthocyanins  Color intensity   Hue  \\\n",
       "0        3.06                  0.28             2.29             5.64  1.04   \n",
       "1        2.76                  0.26             1.28             4.38  1.05   \n",
       "2        3.24                  0.30             2.81             5.68  1.03   \n",
       "3        3.49                  0.24             2.18             7.80  0.86   \n",
       "4        2.69                  0.39             1.82             4.32  1.04   \n",
       "\n",
       "   OD280/OD315 of diluted wines  Proline  \n",
       "0                          3.92     1065  \n",
       "1                          3.40     1050  \n",
       "2                          3.17     1185  \n",
       "3                          3.45     1480  \n",
       "4                          2.93      735  "
      ]
     },
     "execution_count": 308,
     "metadata": {},
     "output_type": "execute_result"
    }
   ],
   "source": [
    "data.drop(columns=[\"Class\"], inplace=True)\n",
    "data.head()"
   ]
  },
  {
   "cell_type": "markdown",
   "metadata": {},
   "source": [
    "The data have 13 features, so they are points (or vectors) that live in a 13 dimensional space."
   ]
  },
  {
   "cell_type": "code",
   "execution_count": 309,
   "metadata": {},
   "outputs": [],
   "source": [
    "features = [\"Alcohol\", \"Malic acid\", \"Ash\", \"Alcalinity of ash\", \"Magnesium\", \"Total phenols\", \"Flavanoids\",\n",
    "            \"Nonflavanoid phenols\", \"Proanthocyanins\", \"Color intensity\", \"Hue\", \"OD280/OD315 of diluted wines\",\n",
    "            \"Proline\"]"
   ]
  },
  {
   "cell_type": "markdown",
   "metadata": {},
   "source": [
    "### Pre-Processing of the data"
   ]
  },
  {
   "cell_type": "markdown",
   "metadata": {},
   "source": [
    "We preferred to work on a numpy matrix structure instead of a pandas dataframe.  \n",
    "So we convert the dataframe in a numpy array and we standardize the data."
   ]
  },
  {
   "cell_type": "code",
   "execution_count": 310,
   "metadata": {},
   "outputs": [],
   "source": [
    "data = np.array(data)\n",
    "data_matrix = StandardScaler().fit_transform(data)"
   ]
  },
  {
   "cell_type": "markdown",
   "metadata": {},
   "source": [
    "### K-means implementation"
   ]
  },
  {
   "cell_type": "markdown",
   "metadata": {},
   "source": [
    "We create a Kmeans object, choosing a number of 3 clusters because, due to experience gained on the code, this is the best choice to obtain a nice classification (read the script **clustering_lib.py**)."
   ]
  },
  {
   "cell_type": "code",
   "execution_count": 311,
   "metadata": {},
   "outputs": [
    {
     "data": {
      "text/plain": [
       "{1: [], 2: [], 3: []}"
      ]
     },
     "execution_count": 311,
     "metadata": {},
     "output_type": "execute_result"
    }
   ],
   "source": [
    "C = clust.Kmeans(3, len(features))\n",
    "C.Cluster"
   ]
  },
  {
   "cell_type": "markdown",
   "metadata": {},
   "source": [
    "We initialize the centroids randomly, choosing for each of their components a number between the maximum and the minimum value taken from each feature of the data (each column of the standardized data frame).  \n",
    "We do it with the random_centers function defined in the Kmeans class; then we can evaluate the clusters on this first random choice."
   ]
  },
  {
   "cell_type": "code",
   "execution_count": 312,
   "metadata": {},
   "outputs": [],
   "source": [
    "C.random_centers(data_matrix)\n",
    "C.clustering(data_matrix)"
   ]
  },
  {
   "cell_type": "markdown",
   "metadata": {},
   "source": [
    "We define a *cost_function_values* numpy array to store the value of the cost function for each iteration.  \n",
    "Since the algorithm always converges in a few steps (always less than 10), we can create a 100 components array, that are more than enough."
   ]
  },
  {
   "cell_type": "code",
   "execution_count": 313,
   "metadata": {},
   "outputs": [],
   "source": [
    "cost_function_values = np.zeros(100)"
   ]
  },
  {
   "cell_type": "markdown",
   "metadata": {},
   "source": [
    "Now we want to improve the classification, so we implement the kmean algorithm step by step, updating the centroids with the geometric means of each cluster.  \n",
    "To not fix a number of steps chosen, we use a while loop in which the algorithm stops when the result becomes stable, that is when the difference between the cost function calculated at the current iteration and the previous one is less than a specific threshold, in our case 0.1."
   ]
  },
  {
   "cell_type": "code",
   "execution_count": 314,
   "metadata": {},
   "outputs": [],
   "source": [
    "up = 0\n",
    "\n",
    "while (up <= 1) or (abs(cost_function_values[up-1]-cost_function_values[up-2]) > 0.1):\n",
    "    cost_function_values[up] = C.cost_function()\n",
    "    C.update_centers()\n",
    "    C.clustering(data_matrix)\n",
    "    up += 1  "
   ]
  },
  {
   "cell_type": "markdown",
   "metadata": {},
   "source": [
    "The best classification that we can obtain with this algorithm is shown below through the data graphs on 3 different pairs of features.  \n",
    "From the graphs it is clear that the clusters are well separated from each other; if some points seem to overlap the clusters, it is probably because they are actually distant in other dimensions.  \n",
    "However this algorithm does not always lead to this good solution: this is better discussed in exercise 4."
   ]
  },
  {
   "cell_type": "code",
   "execution_count": 315,
   "metadata": {
    "scrolled": true
   },
   "outputs": [
    {
     "data": {
      "image/png": "[encoded data removed]",
      "text/plain": [
       "<Figure size 648x432 with 1 Axes>"
      ]
     },
     "metadata": {
      "needs_background": "light"
     },
     "output_type": "display_data"
    }
   ],
   "source": [
    "fig = plt.figure(figsize=(9,6))\n",
    "\n",
    "for i in range(C.K):\n",
    "    cluster = np.array(C.Cluster[i+1])\n",
    "    plt.scatter(cluster[:,6], cluster[:,7], s=45, label=\"cluster \"+str(i+1))\n",
    "plt.scatter(C.C[:,6], C.C[:,7], c=\"black\", s=200)\n",
    "plt.xlabel(\"Flavanoids (standard.)\")\n",
    "plt.ylabel(\"Nonflavanoid phenols (standard.)\")\n",
    "plt.legend()\n",
    "plt.show()"
   ]
  },
  {
   "cell_type": "code",
   "execution_count": 316,
   "metadata": {},
   "outputs": [
    {
     "data": {
      "image/png": "[encoded data removed]",
      "text/plain": [
       "<Figure size 648x432 with 1 Axes>"
      ]
     },
     "metadata": {
      "needs_background": "light"
     },
     "output_type": "display_data"
    }
   ],
   "source": [
    "fig = plt.figure(figsize=(9,6))\n",
    "\n",
    "for i in range(C.K):\n",
    "    cluster = np.array(C.Cluster[i+1])\n",
    "    plt.scatter(cluster[:,6], cluster[:,8], s=45, label=\"cluster \"+str(i+1))\n",
    "plt.scatter(C.C[:,6], C.C[:,8], c=\"black\", s=200)\n",
    "plt.xlabel(\"Flavanoids (standard.)\")\n",
    "plt.ylabel(\"Proanthocyanins (standard.)\")\n",
    "plt.legend()\n",
    "plt.show()"
   ]
  },
  {
   "cell_type": "code",
   "execution_count": 317,
   "metadata": {},
   "outputs": [
    {
     "data": {
      "image/png": "[encoded data removed]",
      "text/plain": [
       "<Figure size 648x432 with 1 Axes>"
      ]
     },
     "metadata": {
      "needs_background": "light"
     },
     "output_type": "display_data"
    }
   ],
   "source": [
    "fig = plt.figure(figsize=(9,6))\n",
    "\n",
    "for i in range(C.K):\n",
    "    cluster = np.array(C.Cluster[i+1])\n",
    "    plt.scatter(cluster[:,0], cluster[:,2], s=45, label=\"cluster \"+str(i+1))\n",
    "plt.scatter(C.C[:,0], C.C[:,2], c=\"black\", s=200)\n",
    "plt.xlabel(\"Alcohol (standard.)\")\n",
    "plt.ylabel(\"Ash (standard.)\")\n",
    "plt.legend()\n",
    "plt.show()"
   ]
  },
  {
   "cell_type": "markdown",
   "metadata": {},
   "source": [
    "# K-means can go wrong"
   ]
  },
  {
   "cell_type": "markdown",
   "metadata": {},
   "source": [
    "We run another time the k-means algorithm code (written in a short and not commented way), only to show one case where our k-means implementation can go wrong.  \n",
    "In the graph shown below, it's clear that this time k-means doesn't provide us a good classification and a valid separation among the data.  \n",
    "This happens because of the strong dependence of the k-means from the initial condition: in this case, the centroids have been randomly chosen too close together and this means that, step by step, one of these two clusters will prevail over the other, leaving it with few points or worse with no point."
   ]
  },
  {
   "cell_type": "code",
   "execution_count": 320,
   "metadata": {},
   "outputs": [],
   "source": [
    "C = clust.Kmeans(3, len(features))\n",
    "\n",
    "C.random_centers(data_matrix)\n",
    "C.clustering(data_matrix)\n",
    "\n",
    "cost_function_values = np.zeros(100)\n",
    "\n",
    "up = 0\n",
    "\n",
    "while (up <= 1) or (abs(cost_function_values[up-1]-cost_function_values[up-2]) > 0.1):\n",
    "    cost_function_values[up] = C.cost_function()\n",
    "    C.update_centers()\n",
    "    C.clustering(data_matrix)\n",
    "    up += 1 "
   ]
  },
  {
   "cell_type": "code",
   "execution_count": 321,
   "metadata": {},
   "outputs": [
    {
     "data": {
      "image/png": "[encoded data removed]",
      "text/plain": [
       "<Figure size 648x432 with 1 Axes>"
      ]
     },
     "metadata": {
      "needs_background": "light"
     },
     "output_type": "display_data"
    }
   ],
   "source": [
    "fig = plt.figure(figsize=(9,6))\n",
    "\n",
    "for i in range(C.K):\n",
    "    cluster = np.array(C.Cluster[i+1])\n",
    "    plt.scatter(cluster[:,6], cluster[:,7], s=45, label=\"cluster \"+str(i+1))\n",
    "plt.scatter(C.C[:,6], C.C[:,7], c=\"black\", s=200)\n",
    "plt.xlabel(\"Flavanoids (standard.)\")\n",
    "plt.ylabel(\"Nonflavanoid phenols (standard.)\")\n",
    "plt.legend()\n",
    "plt.show()"
   ]
  },
  {
   "cell_type": "markdown",
   "metadata": {},
   "source": [
    "The __K-means algorithm__ is one of the most popular clustering algorithms however its operation is heavily influenced by the initialization, therefore a correct initialization can reduce the computational cost of the algorithm.\n",
    "So to see if a better initialization works, we use k-means++ to choose the initial values (or seeds) for the k-means clustering algorithm.\n",
    "\n"
   ]
  },
  {
   "cell_type": "code",
   "execution_count": 1,
   "metadata": {},
   "outputs": [],
   "source": [
    "import pandas as pd\n",
    "import numpy as np\n",
    "import time\n",
    "from sklearn.cluster import KMeans\n",
    "import matplotlib.pyplot as plt"
   ]
  },
  {
   "cell_type": "code",
   "execution_count": 2,
   "metadata": {},
   "outputs": [
    {
     "name": "stderr",
     "output_type": "stream",
     "text": [
      "C:\\Users\\Giulio\\Anaconda3\\lib\\site-packages\\IPython\\core\\interactiveshell.py:3058: DtypeWarning: Columns (21) have mixed types. Specify dtype option on import or set low_memory=False.\n",
      "  interactivity=interactivity, compiler=compiler, result=result)\n"
     ]
    }
   ],
   "source": [
    "# Import the dataset \n",
    "df = pd.read_csv(\"../Crime2001.csv\")"
   ]
  },
  {
   "cell_type": "markdown",
   "metadata": {},
   "source": [
    "### We need a big DataFrame, we can use the dataframe used during the 28/11 lab with information about Chicago crimes"
   ]
  },
  {
   "cell_type": "code",
   "execution_count": 3,
   "metadata": {},
   "outputs": [],
   "source": [
    "#we need only the latitude and the longitude to verify our hypothesis\n",
    "col_n = ['Longitude', 'Latitude']\n",
    "df = pd.DataFrame(df,columns=col_n)\n",
    "#We drop the null values \n",
    "#and those smaller than 91 to avoid errors (same thing used during the lesson of the laboratory)\n",
    "df = df.dropna(0)\n",
    "df.drop( df[ df['Longitude'] < -91].index , inplace=True)"
   ]
  },
  {
   "cell_type": "markdown",
   "metadata": {},
   "source": [
    "### In this case used the random init"
   ]
  },
  {
   "cell_type": "code",
   "execution_count": 4,
   "metadata": {},
   "outputs": [
    {
     "data": {
      "image/png": "[encoded data removed]",
      "text/plain": [
       "<Figure size 1080x720 with 1 Axes>"
      ]
     },
     "metadata": {
      "needs_background": "light"
     },
     "output_type": "display_data"
    },
    {
     "name": "stdout",
     "output_type": "stream",
     "text": [
      "Rand time:  1109.4936373233795\n"
     ]
    }
   ],
   "source": [
    "start = time.time()\n",
    "\n",
    "# Create our k-mean model with random init\n",
    "model = KMeans(n_clusters = 10, init = 'random')\n",
    "\n",
    "# Fit our data in the model\n",
    "model.fit(df[['Latitude', 'Longitude']])\n",
    "\n",
    "centroids = model.cluster_centers_\n",
    "\n",
    "fig = plt.figure(figsize = (15,10))\n",
    "plt.scatter(df['Latitude'],df['Longitude'])\n",
    "plt.scatter(centroids[:,0], centroids[:,1], marker='x')\n",
    "\n",
    "plt.show()\n",
    "\n",
    "time_rand = time.time() - start\n",
    "print('Rand time: ', time_rand)\n"
   ]
  },
  {
   "cell_type": "code",
   "execution_count": 7,
   "metadata": {},
   "outputs": [
    {
     "data": {
      "image/png": "[encoded data removed]",
      "text/plain": [
       "<Figure size 1080x720 with 1 Axes>"
      ]
     },
     "metadata": {
      "needs_background": "light"
     },
     "output_type": "display_data"
    },
    {
     "name": "stdout",
     "output_type": "stream",
     "text": [
      "K-means++ time:  492.2247664928436\n"
     ]
    }
   ],
   "source": [
    "start = time.time()\n",
    "\n",
    "# Create our k-mean model with k-means++ init\n",
    "model1 = KMeans(n_clusters = 10, init = 'k-means++')\n",
    "\n",
    "# Fit our data in the model\n",
    "model1.fit(df[['Latitude', 'Longitude']])\n",
    "\n",
    "centroids1 = model.cluster_centers_\n",
    "\n",
    "fig1 = plt.figure(figsize = (15,10))\n",
    "plt.scatter(df['Latitude'],df['Longitude'])\n",
    "plt.scatter(centroids1[:,0], centroids1[:,1], marker='x')\n",
    "plt.show()\n",
    "\n",
    "time_k = time.time() - start\n",
    "print('K-means++ time: ', time_k)"
   ]
  },
  {
   "cell_type": "markdown",
   "metadata": {},
   "source": [
    "## Conclusion"
   ]
  },
  {
   "cell_type": "markdown",
   "metadata": {},
   "source": [
    "Using the k-means++ we have a speedup of:"
   ]
  },
  {
   "cell_type": "code",
   "execution_count": 9,
   "metadata": {},
   "outputs": [
    {
     "name": "stdout",
     "output_type": "stream",
     "text": [
      "14.158383999815705  %\n"
     ]
    }
   ],
   "source": [
    "print(100*(1-time_k/time_rand), \" %\")"
   ]
  },
  {
   "cell_type": "code",
   "execution_count": null,
   "metadata": {},
   "outputs": [],
   "source": []
  }
 ],
 "metadata": {
  "kernelspec": {
   "display_name": "Python 3",
   "language": "python",
   "name": "python3"
  },
  "language_info": {
   "codemirror_mode": {
    "name": "ipython",
    "version": 3
   },
   "file_extension": ".py",
   "mimetype": "text/x-python",
   "name": "python",
   "nbconvert_exporter": "python",
   "pygments_lexer": "ipython3",
   "version": "3.7.3"
  }
 },
 "nbformat": 4,
 "nbformat_minor": 2
}
